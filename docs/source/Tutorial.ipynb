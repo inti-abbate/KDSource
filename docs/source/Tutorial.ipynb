{
 "cells": [
  {
   "cell_type": "markdown",
   "metadata": {},
   "source": [
    "[![Open In Colab](https://colab.research.google.com/assets/colab-badge.svg)](https://colab.research.google.com/github/inti-abbate/KDSource/blob/tutorial/docs/source/Tutorial.ipynb)"
   ]
  },
  {
   "cell_type": "markdown",
   "metadata": {},
   "source": [
    "# Tutorial"
   ]
  },
  {
   "cell_type": "markdown",
   "metadata": {
    "id": "Z-ZBeC61ZtWR"
   },
   "source": [
    "This tutorial shows the basic usage of the KDSource tool.\n",
    "\n",
    "Usually, the starting point is a particle list recorded somewhere in a Monte Carlo simulation, e.g. when passing through a given surface. In this example we will use a synthetic particle list generated from a known analytical distribution instead.\n",
    "\n",
    "We will then fit a KDE source on the particle list using the KDSource class, and save the optimized model as a KDSource XML file.\n",
    "\n",
    "Finally, we will use the generated file to generate an arbitrary number of new particles, which will follow the estimated distribution of the original particle list. They will be saved into a new MCPL file, from which they can be converted to several Monte Carlo formats."
   ]
  },
  {
   "cell_type": "markdown",
   "metadata": {
    "id": "qDgK9MZtOSDg"
   },
   "source": [
    "## Install KDSource"
   ]
  },
  {
   "cell_type": "markdown",
   "metadata": {},
   "source": [
    "First of all, we install KDSource on the Google Colab virtual machine. Estimated time: 1 min\n",
    "\n",
    "Skip this cell if KDSource is already installed and available in your PATH (installation instructions [here](https://kdsource.readthedocs.io/en/latest/installation.html))."
   ]
  },
  {
   "cell_type": "code",
   "execution_count": 1,
   "metadata": {},
   "outputs": [
    {
     "name": "stdout",
     "output_type": "stream",
     "text": [
      "This function installs KDSource in a Google Colaboratory instance.\n",
      "For local installation instructions see:\n",
      "https://kdsource.readthedocs.io/en/latest/installation.html\n",
      "Installed KDSource in 0.00 minutes\n"
     ]
    }
   ],
   "source": [
    "def install_kdsource():\n",
    "    #\n",
    "    # Clone source code from Github, make and install\n",
    "    #\n",
    "    \n",
    "    import os\n",
    "    \n",
    "    if not os.path.isdir('/content'):\n",
    "        print(\"This function installs KDSource in a Google Colaboratory instance.\")\n",
    "        print(\"For local installation instructions see:\")\n",
    "        print(\"https://kdsource.readthedocs.io/en/latest/installation.html\")\n",
    "        return\n",
    "    \n",
    "    %cd -q /content\n",
    "    print(\"Obtaining KDSource source code from Github...\")\n",
    "    !git --no-pager clone -b tutorial --single-branch --recurse-submodules https://github.com/inti-abbate/KDSource &> /dev/null\n",
    "    %cd -q KDSource\n",
    "    !git --no-pager checkout master &> /dev/null\n",
    "    !mkdir build\n",
    "    %cd -q build\n",
    "    print(\"Running cmake...\")\n",
    "    !cmake .. -DCMAKE_INSTALL_PREFIX=/usr/local/KDSource &> /dev/null\n",
    "    print(\"Running make install...\")\n",
    "    !make install &> /dev/null\n",
    "    print(\"Installing Python API...\")\n",
    "    %cd -q ../python\n",
    "    !pip install . &> /dev/null\n",
    "    \n",
    "    os.environ['PATH'] += \":/usr/local/KDSource/bin\"\n",
    "    \n",
    "    %cd -q /content\n",
    "\n",
    "from time import time\n",
    "t1 = time()\n",
    "install_kdsource()\n",
    "t2 = time()\n",
    "print(\"Installed KDSource in {:.2f} minutes\".format((t2-t1)/60.0))\n"
   ]
  },
  {
   "cell_type": "markdown",
   "metadata": {
    "id": "mTYaKwkahq23"
   },
   "source": [
    "## Generate synthetic data"
   ]
  },
  {
   "cell_type": "markdown",
   "metadata": {
    "id": "Z-ZBeC61ZtWR"
   },
   "source": [
    "In this section we will generate the synthetic particle list. We will use the following joint distribution:\n",
    "\n",
    "$$f(u,x,y,z,\\mu,\\varphi)=\\left(f_{u,1}(u)f_{x,1}(x)+f_{u,2}(u)f_{x,2}(x)\\right)f_y(y)\\ f_{\\mu}(\\mu)\\ f_{\\varphi}(\\varphi)$$\n",
    "\n",
    "Being $u=log(E_0/E)$ the lethargy, $(x,y)$ the 2D position ($z$ is fixed at 0), and $\\mu=cos(\\theta),\\varphi$ the polar coordinates, so that $\\hat{\\Omega}=(d_x,d_y,d_z)=(sin(\\theta)cos(\\varphi),sin(\\theta)sin(\\varphi),cos(\\theta))$ is the direction unit-vector.\n",
    "\n",
    "The specific distributions for each variable are described as follows: \n",
    "\n",
    "*   Lethargy: Normal distribution for lethargy:\n",
    "\n",
    "    $$f_{u,i}(u)=\\frac{1}{\\sigma_u\\sqrt{2\\pi}}exp\\left(-\\frac{(u-\\mu_{u,i})^2}{2\\sigma_u^2}\\right),\\ i=1,2$$\n",
    "\n",
    "*   Position: Normal distribution for x. Normal distribution around 0 for y. Fixed z = 0:\n",
    "\n",
    "    $$f_{x,i}(x)=\\frac{1}{\\sigma_x\\sqrt{2\\pi}}exp\\left(-\\frac{(x-\\mu_{x,i})^2}{2\\sigma_x^2}\\right),\\ i=1,2,\\ f_y(y)=\\frac{1}{\\sigma_y\\sqrt{2\\pi}}exp\\left(-\\frac{y^2}{2\\sigma_y^2}\\right)$$\n",
    "\n",
    "* Direction: \"Cosine distribution\", uniform in $\\varphi$:\n",
    "\n",
    "    $$f_{\\mu}(\\mu)=2\\mu,\\ \\mu>0,\\ f_{\\varphi}(\\varphi)=\\frac{1}{2\\pi}$$\n",
    "\n",
    "* Weight: Normal distribution around 1.\n",
    "\n",
    "    $$f(w)=\\frac{1}{\\sigma_w\\sqrt{2\\pi}}exp\\left(-\\frac{(w-1)^2}{2\\sigma_w^2}\\right)$$\n",
    "\n",
    "    with &sigma;<sub>w</sub> small enough so that w is always greater than 0.\n",
    "\n",
    "We can see that there are two gaussian \"clusters\" of particles, on the $u-x$ plane, each one with a characteristic lethargy and x distribution, implying that thess variables are correlated. The other variables have a separated density distribution.\n",
    "\n",
    "Along this tutorial we will show plots of this distribution for more clarity.\n"
   ]
  },
  {
   "cell_type": "code",
   "execution_count": 2,
   "metadata": {
    "colab": {
     "base_uri": "https://localhost:8080/"
    },
    "executionInfo": {
     "elapsed": 1746,
     "status": "ok",
     "timestamp": 1634594735429,
     "user": {
      "displayName": "Inti Abbate",
      "photoUrl": "https://lh3.googleusercontent.com/a/default-user=s64",
      "userId": "15235311645725350304"
     },
     "user_tz": 180
    },
    "id": "9sOTsUUNhq25",
    "outputId": "03b4ca62-aae5-4bf0-ce53-e380f6096946",
    "scrolled": true
   },
   "outputs": [
    {
     "name": "stdout",
     "output_type": "stream",
     "text": [
      "Writing particles into SSV file...\n",
      "Done. All particles written into samples.ssv\n",
      "ssv_open_file: Opened file \"samples.ssv\":\n",
      "MCPL: Attempting to compress file samples.mcpl with gzip\n",
      "MCPL: Succesfully compressed file into samples.mcpl.gz\n",
      "Created samples.mcpl.gz\n"
     ]
    }
   ],
   "source": [
    "import os\n",
    "import numpy as np\n",
    "import kdsource as kds\n",
    "import mcpl\n",
    "\n",
    "N = int(3E4) # Size of particle list\n",
    "\n",
    "pt = \"n\"     # Particle type: neutron\n",
    "\n",
    "# Generate energies\n",
    "E0 = 10.0\n",
    "sigma_u = 1\n",
    "mu_u_1 = 5\n",
    "mu_u_2 = 9\n",
    "us_1 = np.random.normal(mu_u_1, sigma_u, (int(N/2),1))\n",
    "us_2 = np.random.normal(mu_u_2, sigma_u, (int(N/2),1))\n",
    "us = np.concatenate((us_1, us_2), axis=0)\n",
    "Es = E0 * np.exp(-us)\n",
    "\n",
    "# Generate positions\n",
    "sigma_x = sigma_y = 10\n",
    "mu_x_1 = sigma_x\n",
    "mu_x_2 = -sigma_x\n",
    "poss_1 = np.random.normal([mu_x_1,0,0], [sigma_x,sigma_y,0], (int(N/2),3))\n",
    "poss_2 = np.random.normal([mu_x_2,0,0], [sigma_x,sigma_y,0], (int(N/2),3))\n",
    "poss = np.concatenate((poss_1, poss_2), axis=0)\n",
    "\n",
    "# Generate directions\n",
    "mus = np.sqrt(np.random.uniform(0,1,N))\n",
    "phis = np.random.uniform(-np.pi,np.pi,N)\n",
    "dxs = np.sqrt(1-mus**2) * np.cos(phis)\n",
    "dys = np.sqrt(1-mus**2) * np.sin(phis)\n",
    "dzs = mus\n",
    "dirs = np.stack((dxs,dys,dzs), axis=1)\n",
    "\n",
    "# Generate times\n",
    "ts = np.zeros((N,1))\n",
    "\n",
    "# Stack energies, positions, directions and times and shuffle\n",
    "parts = np.concatenate((Es,poss,dirs,ts), axis=1)\n",
    "np.random.shuffle(parts)\n",
    "\n",
    "# Generate weights\n",
    "sigma_w = 0.1\n",
    "ws = np.random.normal(1, sigma_w, N)\n",
    "\n",
    "# Save array of particles to SSV text file and convert it to MCPL\n",
    "ssvfile = \"samples.ssv\"\n",
    "kds.savessv(pt, parts, ws, ssvfile)\n",
    "!ssv2mcpl $ssvfile samples\n",
    "samples = \"samples.mcpl.gz\""
   ]
  },
  {
   "cell_type": "markdown",
   "metadata": {
    "id": "3CFnVIxrhq28"
   },
   "source": [
    "## Create and optimize KDSource"
   ]
  },
  {
   "cell_type": "markdown",
   "metadata": {},
   "source": [
    "In this section we will create a KDSource object and fit the KDE source model to the generated particle list, i.e., optimize its bandwidth.\n",
    "\n",
    "The KDSource tool uses the Adaptive Multivariate Kernel Density Estimator to estimate the source density:\n",
    "$$\n",
    "\\hat{f}(\\textbf{x}) = \\hat{f}(x_{1},x_{2},...,x_{D}) =\n",
    "    \\sum_{\\rm i=1}^{N} w_{\\rm i} \\left\n",
    "      \\{\\prod_{\\rm j=1}^{D}\\frac{1}{h_i}\n",
    "      K\\left(\\frac{x_{\\rm j}-(p_{\\rm i})_{\\rm  j}}{s_j h_i}\\right) \\right \\} \n",
    "    \\label{eq:multiD}\n",
    "$$\n",
    "\n",
    "Where:\n",
    "* $x$ is the phase-vector defining a source particle (with optional changes of variables).\n",
    "* $p_i$ is the i-th particle in the particle list.\n",
    "* $w_i$ is the weight corresponding to the i-th particle in the particle list.\n",
    "* $K$ is the kernel function (standard gaussian).\n",
    "* $h_i$ is the bandwidth corresponding to the i-th particle in the particle list.\n",
    "* $s_j$ is the scaling factor for variable $j$, which by default is the standard deviation of the component $j$ of the particle list. "
   ]
  },
  {
   "cell_type": "markdown",
   "metadata": {
    "id": "zyRkGpcBn3X6"
   },
   "source": [
    "### Create KDSource"
   ]
  },
  {
   "cell_type": "code",
   "execution_count": 3,
   "metadata": {
    "colab": {
     "base_uri": "https://localhost:8080/"
    },
    "executionInfo": {
     "elapsed": 328,
     "status": "ok",
     "timestamp": 1634594737612,
     "user": {
      "displayName": "Inti Abbate",
      "photoUrl": "https://lh3.googleusercontent.com/a/default-user=s64",
      "userId": "15235311645725350304"
     },
     "user_tz": 180
    },
    "id": "7ZfDOJ37hq29",
    "outputId": "81efd345-2879-46f6-da96-7c631be70288"
   },
   "outputs": [
    {
     "name": "stdout",
     "output_type": "stream",
     "text": [
      "Using existing file samples.mcpl.gz\n",
      "sum_weights = 30013.423511981964\n",
      "p2 = 30328.060741580357\n",
      "N = 30000\n",
      "N_eff = 29702.050473493346\n"
     ]
    }
   ],
   "source": [
    "# PList: wrapper for MCPL file\n",
    "plist = kds.PList(samples)\n",
    "# Geometry: define changes of variables\n",
    "geom = kds.Geometry([kds.geom.Lethargy(E0),\n",
    "                     kds.geom.SurfXY(),\n",
    "                     kds.geom.Isotrop()])\n",
    "# Create KDSource\n",
    "s = kds.KDSource(plist, geom)"
   ]
  },
  {
   "cell_type": "markdown",
   "metadata": {
    "id": "a-kOozmYoBUs"
   },
   "source": [
    "### Optimize bandwidth"
   ]
  },
  {
   "cell_type": "markdown",
   "metadata": {},
   "source": [
    "Before bandwidth optimization, we can optionally set variable importances. Setting a value greater than one for a given variable improves the quality of the estimation along that dimension, at the expense of a coarser estimation on the other variables.\n",
    "\n",
    "In this example we will set a higher importance to the energy."
   ]
  },
  {
   "cell_type": "code",
   "execution_count": 4,
   "metadata": {},
   "outputs": [],
   "source": [
    "# Set importances\n",
    "var_importance = [3,1,1,1,1,1]\n",
    "\n",
    "# Calculate scalings as std / var_imp\n",
    "parts,ws = s.plist.get(N=-1)\n",
    "scaling = s.geom.std(parts=parts)\n",
    "scaling /= var_importance"
   ]
  },
  {
   "cell_type": "markdown",
   "metadata": {},
   "source": [
    "Number of particles to use for fitting.\n",
    "\n",
    "We will use -1, which means use all particles in the list."
   ]
  },
  {
   "cell_type": "code",
   "execution_count": 5,
   "metadata": {
    "executionInfo": {
     "elapsed": 354,
     "status": "ok",
     "timestamp": 1634594740542,
     "user": {
      "displayName": "Inti Abbate",
      "photoUrl": "https://lh3.googleusercontent.com/a/default-user=s64",
      "userId": "15235311645725350304"
     },
     "user_tz": 180
    },
    "id": "GKc55zPoouGB"
   },
   "outputs": [],
   "source": [
    "N = -1"
   ]
  },
  {
   "cell_type": "markdown",
   "metadata": {
    "id": "m8yv8nu8oLYH"
   },
   "source": [
    "There are 3 available bandwidth optimization methods. Choose one and run its cell to optimize bandwidth.\n",
    "\n",
    "Recommended method is Method 3 (adaptive MLCV)."
   ]
  },
  {
   "cell_type": "markdown",
   "metadata": {},
   "source": [
    "* Method 1: Silverman's Rule: Simple and fast method.\n",
    "\n",
    "    BW is chosen based on only on the number of particles, and dimension of geometry.\n",
    "    \n",
    "    Estimated time: 1 sec"
   ]
  },
  {
   "cell_type": "code",
   "execution_count": 6,
   "metadata": {
    "colab": {
     "base_uri": "https://localhost:8080/"
    },
    "executionInfo": {
     "elapsed": 523,
     "status": "ok",
     "timestamp": 1634594742089,
     "user": {
      "displayName": "Inti Abbate",
      "photoUrl": "https://lh3.googleusercontent.com/a/default-user=s64",
      "userId": "15235311645725350304"
     },
     "user_tz": 180
    },
    "id": "gFTxFighhq2_",
    "outputId": "afa22c99-0c96-4992-e857-c790d36ca2b5",
    "scrolled": true
   },
   "outputs": [
    {
     "name": "stdout",
     "output_type": "stream",
     "text": [
      "Using 30000 particles for fit.\n",
      "Calculating bw ... \n",
      "Done\n",
      "Optimal bw (silv) = [[0.24774483 4.71514618 3.33039979 0.1566979  0.1566979  0.1566979 ]]\n"
     ]
    }
   ],
   "source": [
    "s.bw_method = \"silv\"\n",
    "s.fit(N, scaling=scaling)"
   ]
  },
  {
   "cell_type": "markdown",
   "metadata": {},
   "source": [
    "* Method 2: Non-adaptive Maximum Likelihood Cross-Validation: Intermediate method\n",
    "    \n",
    "    Creates a grid of bandwidths and evaluates the MLCV Figure of Merit (FoM) on each one. Selects the bandwidth that optimizes CV score.\n",
    "    \n",
    "    Estimated time: 1 min"
   ]
  },
  {
   "cell_type": "code",
   "execution_count": 7,
   "metadata": {
    "colab": {
     "base_uri": "https://localhost:8080/",
     "height": 450
    },
    "executionInfo": {
     "elapsed": 48768,
     "status": "ok",
     "timestamp": 1634598202519,
     "user": {
      "displayName": "Inti Abbate",
      "photoUrl": "https://lh3.googleusercontent.com/a/default-user=s64",
      "userId": "15235311645725350304"
     },
     "user_tz": 180
    },
    "id": "Owolp6SzqcHc",
    "outputId": "9d26d939-b4d8-4a45-fb50-b98984530cb9",
    "scrolled": false
   },
   "outputs": [
    {
     "name": "stdout",
     "output_type": "stream",
     "text": [
      "Using 10000 particles for fit.\n",
      "Calculating bw ... \n"
     ]
    },
    {
     "name": "stderr",
     "output_type": "stream",
     "text": [
      "[Parallel(n_jobs=-1)]: Using backend LokyBackend with 8 concurrent workers.\n",
      "[Parallel(n_jobs=-1)]: Done   3 out of  10 | elapsed:   10.3s remaining:   24.1s\n",
      "[Parallel(n_jobs=-1)]: Done   5 out of  10 | elapsed:   10.5s remaining:   10.5s\n",
      "[Parallel(n_jobs=-1)]: Done   7 out of  10 | elapsed:   11.0s remaining:    4.7s\n",
      "[Parallel(n_jobs=-1)]: Done  10 out of  10 | elapsed:   15.7s finished\n"
     ]
    },
    {
     "data": {
      "image/png": "[encoded data removed]",
      "text/plain": [
       "<Figure size 432x288 with 1 Axes>"
      ]
     },
     "metadata": {
      "needs_background": "light"
     },
     "output_type": "display_data"
    },
    {
     "name": "stdout",
     "output_type": "stream",
     "text": [
      "Done\n",
      "Optimal bw (mlcv) = [[0.25608551 4.87388813 3.44252233 0.16197336 0.16197336 0.16197336]]\n",
      "Using 30000 particles for fit.\n"
     ]
    }
   ],
   "source": [
    "s.bw_method = \"mlcv\"\n",
    "seed = None # Default: Use the Silverman's Rule as seed\n",
    "grid = np.logspace(-0.1,0.1,10)\n",
    "\n",
    "N_cv = int(1E4) # Use a smaller N to reduce computation times\n",
    "s.fit(N_cv, scaling=scaling, seed=seed, grid=grid)\n",
    "\n",
    "bw = s.kde.bw\n",
    "dim = s.geom.dim\n",
    "bw *= kds.kde.bw_silv(dim,s.plist.N)/kds.kde.bw_silv(dim,N_cv) # Apply Silverman factor\n",
    "s = kds.KDSource(plist, geom, bw=bw) # Create new KDSource with adapted BW\n",
    "s.fit(N=N, scaling=scaling)"
   ]
  },
  {
   "cell_type": "markdown",
   "metadata": {},
   "source": [
    "* Method 3: Adaptive Maximum Likelihood Cross-Validation: Most precise method, but also longest to compute.\n",
    "    \n",
    "    Uses kNN is to generate a seed adaptive bandwidth. Then creates a grid of adaptive bandwidths by scaling the seed bandwidth, and evaluates the MLCV Figure of Merit (FoM) on each one. Selects the bandwidth that optimizes CV score.\n",
    "    \n",
    "    Estimated time: 3 min"
   ]
  },
  {
   "cell_type": "code",
   "execution_count": 8,
   "metadata": {
    "colab": {
     "base_uri": "https://localhost:8080/",
     "height": 943
    },
    "executionInfo": {
     "elapsed": 133707,
     "status": "ok",
     "timestamp": 1634598497325,
     "user": {
      "displayName": "Inti Abbate",
      "photoUrl": "https://lh3.googleusercontent.com/a/default-user=s64",
      "userId": "15235311645725350304"
     },
     "user_tz": 180
    },
    "id": "e_UaDW8Ipdtr",
    "outputId": "dddb7a90-758e-4c10-b990-6bd7abadba5f",
    "scrolled": true
   },
   "outputs": [
    {
     "name": "stdout",
     "output_type": "stream",
     "text": [
      "Using 30000 particles for fit.\n",
      "Calculating bw ... \n",
      "Using k = 10 neighbors per batch (batch_size = 10000)\n",
      "Correction factor: f_k = k_float / k = 1.0\n",
      "Effective total neighbors: K_eff = 30.0\n",
      "batch = 1 / 3\n",
      "batch = 2 / 3\n",
      "batch = 3 / 3\n",
      "Done\n",
      "Optimal bw (knn) = [[ 0.45853041  8.7268739   6.16396138  0.29001918  0.29001918  0.29001918]\n",
      " [ 0.64221605 12.22282827  8.6332222   0.40619982  0.40619982  0.40619982]\n",
      " [ 0.70163315 13.35367047  9.43195812  0.44378097  0.44378097  0.44378097]\n",
      " ...\n",
      " [ 0.57452024 10.93442346  7.72319673  0.36338242  0.36338242  0.36338242]\n",
      " [ 0.52877439 10.06377617  7.10824155  0.3344483   0.3344483   0.3344483 ]\n",
      " [ 0.50832831  9.67464087  6.83338769  0.32151621  0.32151621  0.32151621]]\n",
      "Using 10000 particles for fit.\n",
      "Calculating bw ... \n"
     ]
    },
    {
     "name": "stderr",
     "output_type": "stream",
     "text": [
      "[Parallel(n_jobs=-1)]: Using backend LokyBackend with 8 concurrent workers.\n",
      "[Parallel(n_jobs=-1)]: Done   3 out of  10 | elapsed:   29.0s remaining:  1.1min\n",
      "[Parallel(n_jobs=-1)]: Done   5 out of  10 | elapsed:   35.2s remaining:   35.2s\n",
      "[Parallel(n_jobs=-1)]: Done   7 out of  10 | elapsed:   37.7s remaining:   16.1s\n",
      "[Parallel(n_jobs=-1)]: Done  10 out of  10 | elapsed:   54.9s finished\n"
     ]
    },
    {
     "data": {
      "image/png": "[encoded data removed]",
      "text/plain": [
       "<Figure size 432x288 with 1 Axes>"
      ]
     },
     "metadata": {
      "needs_background": "light"
     },
     "output_type": "display_data"
    },
    {
     "name": "stdout",
     "output_type": "stream",
     "text": [
      "Done\n",
      "Optimal bw (mlcv) = [[0.14875763 2.83119519 1.99972843 0.09408878 0.09408878 0.09408878]\n",
      " [0.2083494  3.96536182 2.80081246 0.13178041 0.13178041 0.13178041]\n",
      " [0.22762566 4.3322326  3.05994045 0.14397258 0.14397258 0.14397258]\n",
      " ...\n",
      " [0.17158788 3.2657067  2.30663239 0.10852885 0.10852885 0.10852885]\n",
      " [0.19406264 3.69345229 2.60875745 0.12274407 0.12274407 0.12274407]\n",
      " [0.36569129 6.95993493 4.9159379  0.2312987  0.2312987  0.2312987 ]]\n",
      "Using 30000 particles for fit.\n"
     ]
    }
   ],
   "source": [
    "# kNN bandwidth\n",
    "s.bw_method = \"knn\"\n",
    "batch_size = 10000 # Batch size for KNN search\n",
    "k = 10             # Numer of neighbors per batch\n",
    "s.fit(N, scaling=scaling, batch_size=batch_size, k=k)\n",
    "bw_knn = s.kde.bw\n",
    "\n",
    "# MLCV optimization of previously calculated kNN bandwidth\n",
    "s.bw_method = \"mlcv\"\n",
    "N_cv = int(1E4)   # Use a smaller N to reduce computation times\n",
    "seed = bw_knn[:N_cv] # Use kNN BW as seed (first N elements)\n",
    "grid = np.logspace(-0.6,-0.4,10)\n",
    "s.fit(N_cv, scaling=scaling, seed=seed, grid=grid)\n",
    "bw_cv = s.kde.bw\n",
    "\n",
    "# Extend MLCV optimization to full KNN BW\n",
    "bw_knn_cv = bw_knn * bw_cv[0]/bw_knn[0] # Apply MLCV factor\n",
    "dim = s.geom.dim\n",
    "bw_knn_cv *= kds.kde.bw_silv(dim,len(bw_knn))/kds.kde.bw_silv(dim,len(bw_cv)) # Apply Silverman factor\n",
    "s = kds.KDSource(plist, geom, bw=bw_knn_cv) # Create new KDSource with full BW\n",
    "s.fit(N=N, scaling=scaling)"
   ]
  },
  {
   "cell_type": "markdown",
   "metadata": {
    "id": "v21kjtYAhq3L"
   },
   "source": [
    "## Save KDSource model"
   ]
  },
  {
   "cell_type": "markdown",
   "metadata": {},
   "source": [
    "We now save our optimized model as a KDSource XML file.\n",
    "\n",
    "The XML file will contain the KDSource model parameters, and the path to the original particle list MCPL file.\n",
    "\n",
    "If an adaptive bandwidth was chosen, the list of bandwidths will be saved as a separate binary file and its path will be included in the KDSource XML file. "
   ]
  },
  {
   "cell_type": "code",
   "execution_count": 9,
   "metadata": {
    "colab": {
     "base_uri": "https://localhost:8080/"
    },
    "executionInfo": {
     "elapsed": 4087,
     "status": "ok",
     "timestamp": 1634598550450,
     "user": {
      "displayName": "Inti Abbate",
      "photoUrl": "https://lh3.googleusercontent.com/a/default-user=s64",
      "userId": "15235311645725350304"
     },
     "user_tz": 180
    },
    "id": "raMdhsCIhq3L",
    "outputId": "23ec7993-0ece-48e1-daf9-9757ff83a5e0",
    "scrolled": true
   },
   "outputs": [
    {
     "name": "stdout",
     "output_type": "stream",
     "text": [
      "Bandwidth file: samples_bws\n",
      "Successfully saved parameters file source.xml\n",
      "<?xml version=\"1.0\" ?>\r\n",
      "<KDSource>\r\n",
      "\t<J units=\"1/s\">1.0</J>\r\n",
      "\t<kernel>g</kernel>\r\n",
      "\t<PList>\r\n",
      "\t\t<pt>n</pt>\r\n",
      "\t\t<mcplname>/media/inti/Disco local/Users/Osiris Inti Abbate/Documents/Universidad/KDSource/KDSource/docs/source/samples.mcpl.gz</mcplname>\r\n",
      "\t\t<trasl/>\r\n",
      "\t\t<rot/>\r\n",
      "\t\t<x2z>0</x2z>\r\n",
      "\t</PList>\r\n",
      "\t<Geom order=\"3\">\r\n",
      "\t\t<Lethargy>\r\n",
      "\t\t\t<dim>1</dim>\r\n",
      "\t\t\t<params nps=\"1\">10.0</params>\r\n",
      "\t\t</Lethargy>\r\n",
      "\t\t<SurfXY>\r\n",
      "\t\t\t<dim>2</dim>\r\n",
      "\t\t\t<params nps=\"5\">-inf inf -inf inf 0</params>\r\n",
      "\t\t</SurfXY>\r\n",
      "\t\t<Isotrop>\r\n",
      "\t\t\t<dim>3</dim>\r\n",
      "\t\t\t<params nps=\"3\">0 0 0</params>\r\n",
      "\t\t</Isotrop>\r\n",
      "\t\t<trasl/>\r\n",
      "\t\t<rot/>\r\n",
      "\t</Geom>\r\n",
      "\t<scaling> 0.74368025 14.1539222   9.99719153  0.47037564  0.47037564  0.47037564</scaling>\r\n",
      "\t<BW variable=\"1\">/media/inti/Disco local/Users/Osiris Inti Abbate/Documents/Universidad/KDSource/KDSource/docs/source/samples_bws</BW>\r\n",
      "</KDSource>\r\n"
     ]
    }
   ],
   "source": [
    "xmlfile = \"source.xml\" # KDSource XML file name\n",
    "\n",
    "s.save(xmlfile) # Save KDSource to XML file\n",
    "if os.name == 'posix':\n",
    "    !cat $xmlfile\n",
    "if os.name == 'nt':\n",
    "    !type $xmlfile"
   ]
  },
  {
   "cell_type": "markdown",
   "metadata": {
    "id": "v21kjtYAhq3L"
   },
   "source": [
    "## Generate particles"
   ]
  },
  {
   "cell_type": "markdown",
   "metadata": {},
   "source": [
    "We can start generating particles!\n",
    "\n",
    "Using the command `kdtool resample` we can generate an arbitrary number of particles following the estimated source distribution and save them in a new MCPL file."
   ]
  },
  {
   "cell_type": "code",
   "execution_count": 10,
   "metadata": {
    "colab": {
     "base_uri": "https://localhost:8080/"
    },
    "executionInfo": {
     "elapsed": 4087,
     "status": "ok",
     "timestamp": 1634598550450,
     "user": {
      "displayName": "Inti Abbate",
      "photoUrl": "https://lh3.googleusercontent.com/a/default-user=s64",
      "userId": "15235311645725350304"
     },
     "user_tz": 180
    },
    "id": "raMdhsCIhq3L",
    "outputId": "23ec7993-0ece-48e1-daf9-9757ff83a5e0"
   },
   "outputs": [
    {
     "name": "stdout",
     "output_type": "stream",
     "text": [
      "Reading xmlfile source.xml...\n",
      "Done.\n",
      "Resampling...\n",
      "MCPL: Attempting to compress file resampled.mcpl with gzip\n",
      "MCPL: Succesfully compressed file into resampled.mcpl.gz\n",
      "Successfully sampled 1000000 particles.\n"
     ]
    }
   ],
   "source": [
    "N_resampled = 1E6 # Number of particles to generate with virtual KDE source\n",
    "\n",
    "if os.name == 'posix':\n",
    "    !kdtool resample \"$xmlfile\" -o \"resampled\" -n $N_resampled\n",
    "if os.name == 'nt': # kdtool still not implemented in Windows\n",
    "    !kdtool-resample \"$xmlfile\" -o \"resampled\" -n $N_resampled\n",
    "resampled = \"resampled.mcpl.gz\""
   ]
  },
  {
   "cell_type": "markdown",
   "metadata": {
    "id": "pl3arYaG3LKo"
   },
   "source": [
    "A new MCPL file has been created, named \"resampled.mcpl.gz\", with particles generated from the KDE-based distribution."
   ]
  },
  {
   "cell_type": "markdown",
   "metadata": {
    "id": "4KUsrooZhq3E"
   },
   "source": [
    "## Create plots"
   ]
  },
  {
   "cell_type": "markdown",
   "metadata": {
    "id": "TszJfXsWVRfx"
   },
   "source": [
    "We now want to compare the estimated distribution with the original true distribution, to verify they match.\n",
    "\n",
    "Since in this example the original distribution is known, we will directly use its analytical functions. In a real problem the true source density is unknown, so we would use histograms of the original particle list instead.\n",
    "\n",
    "On the other hand, there are two ways to show the estimated distribution:\n",
    "1. Using the evaluation and plotting functions of the KDSource Python API. This implies actually evaluating the formula KDE estimator. The evaluating algorithm can be some time consuming.\n",
    "2. Using histograms of generated particles. This way we check the actual distribution of the particles sampled from the source.\n",
    "\n",
    "Comparison will be performed both visually and quantitatively, based on the Kullback-Leibler divergence."
   ]
  },
  {
   "cell_type": "code",
   "execution_count": 11,
   "metadata": {
    "executionInfo": {
     "elapsed": 19,
     "status": "ok",
     "timestamp": 1634598551900,
     "user": {
      "displayName": "Inti Abbate",
      "photoUrl": "https://lh3.googleusercontent.com/a/default-user=s64",
      "userId": "15235311645725350304"
     },
     "user_tz": 180
    },
    "id": "1pub4Pz7v-Ow"
   },
   "outputs": [],
   "source": [
    "import matplotlib.pyplot as plt"
   ]
  },
  {
   "cell_type": "markdown",
   "metadata": {},
   "source": [
    "Define some functions"
   ]
  },
  {
   "cell_type": "code",
   "execution_count": 12,
   "metadata": {
    "executionInfo": {
     "elapsed": 2,
     "status": "ok",
     "timestamp": 1634598552942,
     "user": {
      "displayName": "Inti Abbate",
      "photoUrl": "https://lh3.googleusercontent.com/a/default-user=s64",
      "userId": "15235311645725350304"
     },
     "user_tz": 180
    },
    "id": "5883KpgbWIzw"
   },
   "outputs": [],
   "source": [
    "# KL divergence\n",
    "def kl_divergence(p, q):\n",
    "    return np.sum(np.where(p != 0, p * np.log(p / q), 0))\n",
    "\n",
    "# Histogram of MCPL particle list\n",
    "def mcpl_hist(mcplfile, var, bins, part0=None, part1=None, **kwargs):\n",
    "    pl = mcpl.MCPLFile(mcplfile)\n",
    "    hist = np.zeros(len(bins)-1)\n",
    "    I = 0\n",
    "    for pb in pl.particle_blocks:\n",
    "        parts = np.stack((pb.ekin,pb.x,pb.y,pb.z,pb.ux,pb.uy,pb.uz), axis=1)\n",
    "        mask1 = np.ones(len(parts), dtype=bool)\n",
    "        if part0 is not None:\n",
    "            mask1 = np.logical_and.reduce(part0 <= parts, axis=1)\n",
    "        mask2 = np.ones(len(parts), dtype=bool)\n",
    "        if part1 is not None:\n",
    "            mask2 = np.logical_and.reduce(parts <= part1, axis=1)\n",
    "        mask = np.logical_and(mask1, mask2)\n",
    "        data = parts[mask][:,var]\n",
    "        hist += np.histogram(data, bins=bins, weights=pb.weight[mask], **kwargs)[0]\n",
    "        I += np.sum(pb.weight)\n",
    "    hist /= I\n",
    "    hist /= (bins[1:]-bins[:-1])\n",
    "    return hist"
   ]
  },
  {
   "cell_type": "markdown",
   "metadata": {
    "id": "k3T-cezeuPVT"
   },
   "source": [
    "### Energy / lethargy plots"
   ]
  },
  {
   "cell_type": "code",
   "execution_count": 13,
   "metadata": {
    "executionInfo": {
     "elapsed": 408,
     "status": "ok",
     "timestamp": 1634598760433,
     "user": {
      "displayName": "Inti Abbate",
      "photoUrl": "https://lh3.googleusercontent.com/a/default-user=s64",
      "userId": "15235311645725350304"
     },
     "user_tz": 180
    },
    "id": "IK6zeSBhWQA6"
   },
   "outputs": [],
   "source": [
    "EE = np.logspace(-4,0,100)\n",
    "\n",
    "# Analytic distributions\n",
    "uu = s.geom.ms[0].transform(EE)\n",
    "pdf_1 = 0.5 * 1/EE*np.exp(-(uu-mu_u_1)**2/(2*sigma_u**2))/(sigma_u*np.sqrt(2*np.pi))\n",
    "pdf_2 = 0.5 * 1/EE*np.exp(-(uu-mu_u_2)**2/(2*sigma_u**2))/(sigma_u*np.sqrt(2*np.pi))\n",
    "f = 0.1587 # Integral of normal distribution for x-mu>std"
   ]
  },
  {
   "cell_type": "code",
   "execution_count": 14,
   "metadata": {},
   "outputs": [
    {
     "data": {
      "image/png": "[encoded data removed]",
      "text/plain": [
       "<Figure size 432x288 with 1 Axes>"
      ]
     },
     "metadata": {
      "needs_background": "light"
     },
     "output_type": "display_data"
    }
   ],
   "source": [
    "# Plot energy distribution\n",
    "s.plot_integr('u', [])\n",
    "\n",
    "hist = mcpl_hist(samples, 0, EE)\n",
    "hist = np.concatenate((hist, hist[-1:]))\n",
    "plt.plot(EE, hist, ds='steps-post', label=\"Samples\")\n",
    "\n",
    "hist = mcpl_hist(resampled, 0, EE)\n",
    "hist = np.concatenate((hist, hist[-1:]))\n",
    "plt.plot(EE, hist, ds='steps-post', label=\"KDSource\")\n",
    "\n",
    "plt.plot(EE, pdf_1+pdf_2, '--', label=\"Analytic\")\n",
    "\n",
    "plt.xscale('log')\n",
    "plt.legend()\n",
    "plt.tight_layout()\n",
    "plt.show()"
   ]
  },
  {
   "cell_type": "markdown",
   "metadata": {
    "id": "v3IECh_2WQA8"
   },
   "source": [
    "It can be seen that the histogram of the 1E6 generated particles successfully estimate the original distribution, with lesser noise than the original 1E4 particles."
   ]
  },
  {
   "cell_type": "code",
   "execution_count": 15,
   "metadata": {
    "colab": {
     "base_uri": "https://localhost:8080/",
     "height": 479
    },
    "executionInfo": {
     "elapsed": 8767,
     "status": "ok",
     "timestamp": 1634598780137,
     "user": {
      "displayName": "Inti Abbate",
      "photoUrl": "https://lh3.googleusercontent.com/a/default-user=s64",
      "userId": "15235311645725350304"
     },
     "user_tz": 180
    },
    "id": "gfNYZI4Yhq3F",
    "outputId": "724f3ca6-d3f7-425e-e917-ac43a0844292"
   },
   "outputs": [
    {
     "name": "stdout",
     "output_type": "stream",
     "text": [
      "Using 100 particles for fit.\n",
      "Using 316 particles for fit.\n",
      "Using 1000 particles for fit.\n",
      "Using 3162 particles for fit.\n",
      "Using 10000 particles for fit.\n",
      "Using 30000 particles for fit.\n",
      "Using 30000 particles for fit.\n"
     ]
    },
    {
     "data": {
      "image/png": "[encoded data removed]",
      "text/plain": [
       "<Figure size 432x288 with 1 Axes>"
      ]
     },
     "metadata": {
      "needs_background": "light"
     },
     "output_type": "display_data"
    }
   ],
   "source": [
    "# Plot reduction of KL divergence with growing N\n",
    "\n",
    "# KL divergence is computed between lethargy distributions\n",
    "# because energy grid is logarithmic (linear in lethargy)\n",
    "\n",
    "s.bw_method = None\n",
    "KLDs = []\n",
    "n_vals = np.logspace(2,5,7).astype(\"int\")\n",
    "dim = s.geom.dim\n",
    "bw = s.kde.bw\n",
    "N = len(s.kde.bw)\n",
    "for n in n_vals:\n",
    "    s.fit(N=n, scaling=scaling)\n",
    "    s.kde.bw = bw * kds.kde.bw_silv(dim,n)/kds.kde.bw_silv(dim,N)\n",
    "    fig,[score,err] = s.plot_E(EE, label=f\"N = {n}\")\n",
    "    f_u = (pdf_1+pdf_2) * EE # Analytic lethargy distribution\n",
    "    KDE_u = score * EE       # KDE lethargy distribution\n",
    "    KLDs.append(kl_divergence(f_u, KDE_u))\n",
    "plt.clf()\n",
    "\n",
    "plt.plot(n_vals, KLDs, 'o-')\n",
    "plt.xlabel('Number of particles')\n",
    "plt.ylabel('$D_{KL}(\\,\\hat{f}\\,||\\,f\\,)$')\n",
    "plt.title('Kullback-Leibler Divergence')\n",
    "plt.xscale('log')\n",
    "plt.yscale('log')\n",
    "plt.grid()\n",
    "plt.show()"
   ]
  },
  {
   "cell_type": "markdown",
   "metadata": {
    "id": "YWLFrx5yWQA9"
   },
   "source": [
    "It can be seen how the KL divergence between the true and estimated distribution decreases with the number of particles. The KL divergence is a measure of the distance between both distributions, so this means that the larger the particle list used in the estimation, the closer is the estimation to the original distribution."
   ]
  },
  {
   "cell_type": "code",
   "execution_count": 16,
   "metadata": {
    "colab": {
     "base_uri": "https://localhost:8080/",
     "height": 297
    },
    "executionInfo": {
     "elapsed": 5214,
     "status": "ok",
     "timestamp": 1634598790093,
     "user": {
      "displayName": "Inti Abbate",
      "photoUrl": "https://lh3.googleusercontent.com/a/default-user=s64",
      "userId": "15235311645725350304"
     },
     "user_tz": 180
    },
    "id": "vqNBxmoHWQA9",
    "outputId": "cc31ae2b-4483-4e7b-ba16-244fe0fe10a2"
   },
   "outputs": [
    {
     "data": {
      "image/png": "[encoded data removed]",
      "text/plain": [
       "<Figure size 432x288 with 1 Axes>"
      ]
     },
     "metadata": {
      "needs_background": "light"
     },
     "output_type": "display_data"
    }
   ],
   "source": [
    "# Plot correlation with x\n",
    "# We can restrict the x range used in the energy plot,\n",
    "# and observe the correlation between both variables.\n",
    "s.plot_integr('u', [])\n",
    "\n",
    "# Vectors to separate x<0 and x>0\n",
    "# Vec: [u, x,y, dx,dy,dz]\n",
    "vec0 = [-np.inf,0,-np.inf,-1,-1,-1]\n",
    "vec1 = [np.inf,0,np.inf,1,1,1]\n",
    "# Part: [E, x,y,z, dx,dy,dz]\n",
    "part0 = [0,0,-np.inf,-np.inf,-1,-1,-1]\n",
    "part1 = [np.inf,0,np.inf,np.inf,1,1,1]\n",
    "\n",
    "# Plot only particles with x > 0\n",
    "hist = mcpl_hist(samples, 0, EE, part0=part0)\n",
    "hist = np.concatenate((hist, hist[-1:]))\n",
    "plt.plot(EE, hist, ds='steps-post', label=\"x>0, Samples\")\n",
    "hist = mcpl_hist(resampled, 0, EE, part0=part0)\n",
    "hist = np.concatenate((hist, hist[-1:]))\n",
    "plt.plot(EE, hist, ds='steps-post', label=\"x>0, KDSource\")\n",
    "plt.plot(EE, (1-f)*pdf_1+f*pdf_2, '--', linewidth=1.5, label=\"x>0, Analytic\")\n",
    "\n",
    "# Plot only particles with x < 0\n",
    "hist = mcpl_hist(samples, 0, EE, part1=part1)\n",
    "hist = np.concatenate((hist, hist[-1:]))\n",
    "plt.plot(EE, hist, ds='steps-post', label=\"x>0, Samples\")\n",
    "hist = mcpl_hist(resampled, 0, EE, part1=part1)\n",
    "hist = np.concatenate((hist, hist[-1:]))\n",
    "plt.plot(EE, hist, ds='steps-post', label=\"x>0, KDSource\")\n",
    "plt.plot(EE, f*pdf_1+(1-f)*pdf_2, '--', linewidth=1.5, label=\"x<0, Analytic\")\n",
    "\n",
    "plt.xscale('log')\n",
    "plt.legend()\n",
    "plt.tight_layout()\n",
    "plt.show()"
   ]
  },
  {
   "cell_type": "markdown",
   "metadata": {
    "id": "IqoPXdAoWQA9"
   },
   "source": [
    "Here we observe the effect of restricting the $x$ range in the energy plots. Since energy and $x$ are correlated, restricting the $x$ values affects the energy distribution.\n",
    "\n",
    "Since the two $u-x$ clusters overlap in $x$, particles with $x>0$ are composed by a big fraction of the cluster with positive mean $x$, but also a small fraction of the other cluster. The energy peaks are thus modified with the respective factors, as can be seen in the plot. The analogous effect happens for particles with $x<0$."
   ]
  },
  {
   "cell_type": "code",
   "execution_count": 17,
   "metadata": {
    "colab": {
     "base_uri": "https://localhost:8080/",
     "height": 297
    },
    "executionInfo": {
     "elapsed": 33006,
     "status": "ok",
     "timestamp": 1634598642937,
     "user": {
      "displayName": "Inti Abbate",
      "photoUrl": "https://lh3.googleusercontent.com/a/default-user=s64",
      "userId": "15235311645725350304"
     },
     "user_tz": 180
    },
    "id": "zXqonIL8WQA-",
    "outputId": "69a038d8-01ac-46b2-ad10-3f684af2e635"
   },
   "outputs": [
    {
     "data": {
      "image/png": "[encoded data removed]",
      "text/plain": [
       "<Figure size 432x288 with 2 Axes>"
      ]
     },
     "metadata": {
      "needs_background": "light"
     },
     "output_type": "display_data"
    }
   ],
   "source": [
    "# Lethargy-x 2D plot\n",
    "\n",
    "xx = np.linspace(-30,30,20)\n",
    "\n",
    "fig,scores = s.plot2D_integr([\"u\",\"x\"], [uu,xx], scale=\"log\")\n",
    "\n",
    "plt.clim(vmin=1e-5)\n",
    "plt.tight_layout()\n",
    "plt.show()"
   ]
  },
  {
   "cell_type": "markdown",
   "metadata": {
    "id": "5E5b5IIzyayw"
   },
   "source": [
    "### Position plots"
   ]
  },
  {
   "cell_type": "code",
   "execution_count": 18,
   "metadata": {
    "colab": {
     "base_uri": "https://localhost:8080/",
     "height": 297
    },
    "executionInfo": {
     "elapsed": 2644,
     "status": "ok",
     "timestamp": 1634598645568,
     "user": {
      "displayName": "Inti Abbate",
      "photoUrl": "https://lh3.googleusercontent.com/a/default-user=s64",
      "userId": "15235311645725350304"
     },
     "user_tz": 180
    },
    "id": "yAN5SuDWhq3H",
    "outputId": "c8878514-740e-4d83-cfab-1de70ef3f323"
   },
   "outputs": [
    {
     "data": {
      "image/png": "[encoded data removed]",
      "text/plain": [
       "<Figure size 432x288 with 1 Axes>"
      ]
     },
     "metadata": {
      "needs_background": "light"
     },
     "output_type": "display_data"
    }
   ],
   "source": [
    "# Plot x distribution\n",
    "s.plot_integr('x', [])\n",
    "\n",
    "xx = np.linspace(-30,30,100)\n",
    "pdf_1 = 0.5 * np.exp(-((xx-mu_x_1)/sigma_x)**2/2)/(sigma_x*np.sqrt(2*np.pi))\n",
    "pdf_2 = 0.5 * np.exp(-((xx-mu_x_2)/sigma_x)**2/2)/(sigma_x*np.sqrt(2*np.pi))\n",
    "\n",
    "hist = mcpl_hist(samples, 1, xx)\n",
    "hist = np.concatenate((hist, hist[-1:]))\n",
    "plt.plot(xx, hist, ds='steps-post', label=\"Samples\")\n",
    "\n",
    "hist = mcpl_hist(resampled, 1, xx)\n",
    "hist = np.concatenate((hist, hist[-1:]))\n",
    "plt.plot(xx, hist, ds='steps-post', label=\"KDSource\")\n",
    "\n",
    "plt.plot(xx, pdf_1+pdf_2, '--', zorder=3, label=\"Analytic\")\n",
    "\n",
    "plt.legend()\n",
    "plt.tight_layout()\n",
    "plt.show()"
   ]
  },
  {
   "cell_type": "markdown",
   "metadata": {},
   "source": [
    "We observe again that the histogram of resampled particles follow the original distribution, with less noise than the original samples. "
   ]
  },
  {
   "cell_type": "code",
   "execution_count": 19,
   "metadata": {
    "colab": {
     "base_uri": "https://localhost:8080/",
     "height": 297
    },
    "executionInfo": {
     "elapsed": 25333,
     "status": "ok",
     "timestamp": 1634598670888,
     "user": {
      "displayName": "Inti Abbate",
      "photoUrl": "https://lh3.googleusercontent.com/a/default-user=s64",
      "userId": "15235311645725350304"
     },
     "user_tz": 180
    },
    "id": "DZLe9wzShq3H",
    "outputId": "4da3b4b4-104f-4c82-977d-7df086ae9f0b"
   },
   "outputs": [
    {
     "data": {
      "image/png": "[encoded data removed]",
      "text/plain": [
       "<Figure size 432x288 with 2 Axes>"
      ]
     },
     "metadata": {
      "needs_background": "light"
     },
     "output_type": "display_data"
    }
   ],
   "source": [
    "# Plot xy distribution\n",
    "\n",
    "xx = np.linspace(-30,30,30)\n",
    "yy = np.linspace(-30,30,30)\n",
    "fig,scores = s.plot2D_integr([\"x\",\"y\"], [xx,yy])\n",
    "plt.tight_layout()\n",
    "plt.show()"
   ]
  },
  {
   "cell_type": "markdown",
   "metadata": {
    "id": "Mv6Lbd0f1PP9"
   },
   "source": [
    "### Direction plots"
   ]
  },
  {
   "cell_type": "code",
   "execution_count": 20,
   "metadata": {
    "colab": {
     "base_uri": "https://localhost:8080/",
     "height": 297
    },
    "executionInfo": {
     "elapsed": 5330,
     "status": "ok",
     "timestamp": 1634598676208,
     "user": {
      "displayName": "Inti Abbate",
      "photoUrl": "https://lh3.googleusercontent.com/a/default-user=s64",
      "userId": "15235311645725350304"
     },
     "user_tz": 180
    },
    "id": "0D-Jq-vZhq3I",
    "outputId": "ee57d17f-1d54-4f49-b456-82c8872f9892"
   },
   "outputs": [
    {
     "data": {
      "image/png": "[encoded data removed]",
      "text/plain": [
       "<Figure size 432x288 with 1 Axes>"
      ]
     },
     "metadata": {
      "needs_background": "light"
     },
     "output_type": "display_data"
    }
   ],
   "source": [
    "# Plot dz distribution\n",
    "s.plot_integr('dz', [])\n",
    "\n",
    "ddz = np.linspace(0,1,100)\n",
    "pdf = 2 * ddz\n",
    "\n",
    "s.plot_integr('dz', np.array([0]))\n",
    "\n",
    "hist = mcpl_hist(samples, 6, ddz)\n",
    "hist = np.concatenate((hist, hist[-1:]))\n",
    "plt.plot(ddz, hist, ds='steps-post', label=\"Samples\")\n",
    "\n",
    "hist = mcpl_hist(resampled, 6, ddz)\n",
    "hist = np.concatenate((hist, hist[-1:]))\n",
    "plt.plot(ddz, hist, ds='steps-post', label=\"KDSource\")\n",
    "\n",
    "plt.plot(ddz, pdf, '--', zorder=3, label=\"Analytic\")\n",
    "\n",
    "hist = mcpl_hist(samples, 6, ddz, part0=part0)\n",
    "hist = np.concatenate((hist, hist[-1:]))\n",
    "plt.plot(ddz, hist, ds='steps-post', label=\"x>0, Samples\")\n",
    "\n",
    "hist = mcpl_hist(resampled, 6, ddz, part0=part0)\n",
    "hist = np.concatenate((hist, hist[-1:]))\n",
    "plt.plot(ddz, hist, ds='steps-post', label=\"x>0, KDSource\")\n",
    "\n",
    "plt.plot(ddz, 0.5*pdf, '--', zorder=3, label=\"x>0, Analytic\")\n",
    "\n",
    "plt.yscale('linear')\n",
    "plt.ylim(bottom=0)\n",
    "plt.legend()\n",
    "plt.tight_layout()\n",
    "plt.show()"
   ]
  },
  {
   "cell_type": "markdown",
   "metadata": {
    "id": "z8GiY0_cWQBA"
   },
   "source": [
    "We here observe the effect of restricting the $x$ range in the $\\mu$ plot. Since $\\mu$ is not correlated with $x$, its distribution for $x>0$ is the same (linear), but with half the intensity.\n",
    "\n",
    "Again we see that the KDSource histogram follows the analytical distribution with less noise than the original samples. Nevertheless, in the region of $dz=\\mu=0$ a small border effect can be observed, caused by the bias of the KDE method."
   ]
  },
  {
   "cell_type": "code",
   "execution_count": 21,
   "metadata": {
    "colab": {
     "base_uri": "https://localhost:8080/",
     "height": 297
    },
    "executionInfo": {
     "elapsed": 33892,
     "status": "ok",
     "timestamp": 1634598710093,
     "user": {
      "displayName": "Inti Abbate",
      "photoUrl": "https://lh3.googleusercontent.com/a/default-user=s64",
      "userId": "15235311645725350304"
     },
     "user_tz": 180
    },
    "id": "ix307EUlhq3K",
    "outputId": "d63054f4-5fc7-4dcd-9d73-2b7241d6d381"
   },
   "outputs": [
    {
     "data": {
      "image/png": "[encoded data removed]",
      "text/plain": [
       "<Figure size 432x288 with 2 Axes>"
      ]
     },
     "metadata": {
      "needs_background": "light"
     },
     "output_type": "display_data"
    }
   ],
   "source": [
    "# Plot dx-dy distribution\n",
    "\n",
    "ddx = np.linspace(-1,1,30)\n",
    "ddy = np.linspace(-1,1,30)\n",
    "\n",
    "fig,scores = s.plot2D_integr([\"dx\",\"dy\"], [ddx,ddy], scale=\"linear\")\n",
    "\n",
    "plt.gca().set_aspect(1)\n",
    "plt.tight_layout()\n",
    "plt.show()"
   ]
  },
  {
   "cell_type": "markdown",
   "metadata": {
    "id": "LEArGdnhoA-7"
   },
   "source": [
    "For a cosine distribution, the density projected in the $dx-dy$ plane is uniform."
   ]
  },
  {
   "cell_type": "code",
   "execution_count": null,
   "metadata": {
    "id": "kC9TnlxRpB-T"
   },
   "outputs": [],
   "source": []
  }
 ],
 "metadata": {
  "colab": {
   "collapsed_sections": [],
   "name": "Verification.ipynb",
   "provenance": [],
   "toc_visible": true
  },
  "kernelspec": {
   "display_name": "Python 3",
   "language": "python",
   "name": "python3"
  },
  "language_info": {
   "codemirror_mode": {
    "name": "ipython",
    "version": 3
   },
   "file_extension": ".py",
   "mimetype": "text/x-python",
   "name": "python",
   "nbconvert_exporter": "python",
   "pygments_lexer": "ipython3",
   "version": "3.10.12"
  }
 },
 "nbformat": 4,
 "nbformat_minor": 1
}
